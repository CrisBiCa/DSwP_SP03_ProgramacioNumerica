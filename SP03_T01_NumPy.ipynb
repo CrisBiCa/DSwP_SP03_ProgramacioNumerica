{
 "cells": [
  {
   "cell_type": "markdown",
   "id": "543294e7",
   "metadata": {},
   "source": [
    "## Sprint 03 Tasca 01: NumPy\n",
    "\n",
    "\n",
    "**Descripció**\n",
    "\n",
    "Exercicis de programació numèrica.\n",
    "\n",
    "\n",
    "- **Exercici 1**\n",
    "\n",
    "Crea una funció que donat un Array d’una dimensió, et faci un resum estadístic bàsic de les dades. Si detecta que l’array té més d’una dimensió, ha de mostrar un missatge d’error.\n",
    "\n",
    "\n",
    "- **Exercici 2**\n",
    "\n",
    "Crea una funció que et generi un quadrat NxN de nombres aleatoris entre el 0 i el 100.\n",
    "\n",
    "\n",
    "- **Exercici 3**\n",
    "\n",
    "Crea una funció que donada una taula de dues dimensions (NxM), et calculi els totals per fila i els totals per columna.\n",
    "\n",
    "\n",
    "- **Exercici 4**\n",
    "\n",
    "Implementa manualment una funció que calculi el coeficient de correlació. Informa-te'n sobre els seus usos i interpretació."
   ]
  },
  {
   "cell_type": "code",
   "execution_count": 224,
   "id": "d562a941",
   "metadata": {},
   "outputs": [],
   "source": [
    "##Importing all necessary libraries\n",
    "import numpy as np\n",
    "import random\n",
    "from IPython.display import Image\n",
    "%matplotlib inline\n",
    "import matplotlib.pyplot as plt\n",
    "import matplotlib.image as mpimg\n",
    "import math "
   ]
  },
  {
   "cell_type": "markdown",
   "id": "e7422c24",
   "metadata": {},
   "source": [
    "## Exercice 1\n",
    "<div class=\"alert alert-block alert-info\">Crea una funció que donat un Array d’una dimensió, et faci un resum estadístic bàsic de les dades. \n",
    "Si detecta que l’array té més d’una dimensió, ha de mostrar un missatge d’error.\n",
    "</div>"
   ]
  },
  {
   "cell_type": "code",
   "execution_count": 39,
   "id": "db8b17f9",
   "metadata": {},
   "outputs": [],
   "source": [
    "##I define the fuctuion to do a summary of statistics\n",
    "def summaryStats(my1Darray):\n",
    "    if my1Darray.ndim <= 1:\n",
    "        \n",
    "        minValue = np.min(my1Darray)\n",
    "        maxValue = np.max(my1Darray)\n",
    "        sumatory = np.sum(my1Darray)\n",
    "        meanArray = np.mean(my1Darray)\n",
    "        standarray = np.std(my1Darray)\n",
    "        vararArray = np.var(my1Darray)\n",
    "        medianArray = np.median(my1Darray)\n",
    "        \n",
    "        print('Statistical Sumary of your array: ' + \n",
    "              '\\nMin value: ', minValue,\n",
    "              '\\nMax value: ', maxValue,\n",
    "              '\\nSummatory of Values: ', sumatory,\n",
    "              '\\nMean of values: ', meanArray,\n",
    "              '\\nStandard deviation: ', standarray,\n",
    "              '\\nVariance: ', vararArray,\n",
    "              '\\nMedian: ', medianArray)\n",
    "    else: \n",
    "        print('The array has more than 1 dimension! is not possible at the moment to do summary of stats, sorry')\n",
    "    "
   ]
  },
  {
   "cell_type": "code",
   "execution_count": null,
   "id": "729b93eb",
   "metadata": {},
   "outputs": [],
   "source": [
    "##I also define a coiple of arrais to test, one 1D and another 2D\n",
    "my1Darray = np.array([2,3,4,5,6])\n",
    "my2Darray = np.array([[2,3,4,5,6],[3,8,7,6,5]])"
   ]
  },
  {
   "cell_type": "code",
   "execution_count": 37,
   "id": "b4b0d04c",
   "metadata": {},
   "outputs": [
    {
     "name": "stdout",
     "output_type": "stream",
     "text": [
      "Statistical Sumary of your array: \n",
      "Min value:  2 \n",
      "Max value:  6 \n",
      "Summatory of Values:  20 \n",
      "Mean of values:  4.0 \n",
      "Standard deviation:  1.4142135623730951 \n",
      "Variance:  2.0 \n",
      "Median:  4.0\n"
     ]
    }
   ],
   "source": [
    "## Call my function with the 1D array:\n",
    "summaryStats(my1Darray)"
   ]
  },
  {
   "cell_type": "code",
   "execution_count": 40,
   "id": "4aa011aa",
   "metadata": {},
   "outputs": [
    {
     "name": "stdout",
     "output_type": "stream",
     "text": [
      "The array has more than 1 dimension! is not possible at the moment to do summary of stats, sorry\n"
     ]
    }
   ],
   "source": [
    "##Call my function with the 2D Array\n",
    "summaryStats(my2Darray)"
   ]
  },
  {
   "cell_type": "markdown",
   "id": "f9f651e6",
   "metadata": {},
   "source": [
    "## Exercice 2\n",
    "<div class=\"alert alert-block alert-info\">Crea una funció que et generi un quadrat NxN de nombres aleatoris entre el 0 i el 100.\n",
    "</div>"
   ]
  },
  {
   "cell_type": "code",
   "execution_count": 60,
   "id": "8c24df43",
   "metadata": {},
   "outputs": [],
   "source": [
    "#To do so I use the random modul for numpy and the randint function\n",
    "## I define my n and m (size of my matrix)\n",
    "\n",
    "##I creat myMatrix function with the random module from 0 to 101 (to include 100) and I pass a list as my size\n",
    "##The function could also include de max an min values of the random numbers to pass as arguments\n",
    "\n",
    "def myMatrix(n):\n",
    "    myMatrix = np.random.randint(0, 101, size = [n,n])\n",
    "    return myMatrix"
   ]
  },
  {
   "cell_type": "code",
   "execution_count": 61,
   "id": "e0da1323",
   "metadata": {},
   "outputs": [
    {
     "data": {
      "text/plain": [
       "array([[33, 31, 29],\n",
       "       [28, 65,  9],\n",
       "       [51, 72, 27]])"
      ]
     },
     "execution_count": 61,
     "metadata": {},
     "output_type": "execute_result"
    }
   ],
   "source": [
    "myMatrix(3)"
   ]
  },
  {
   "cell_type": "markdown",
   "id": "5ca31e7b",
   "metadata": {},
   "source": [
    "## Exercice 3\n",
    "<div class=\"alert alert-block alert-info\">Crea una funció que donada una taula de dues dimensions (NxM), et calculi els totals per fila i els totals per columna.\n",
    "</div>"
   ]
  },
  {
   "cell_type": "code",
   "execution_count": 94,
   "id": "f75b8534",
   "metadata": {},
   "outputs": [],
   "source": [
    "## Creat a function to creat matrix of NxM with random numbers between numMin and numMax\n",
    "##This function returns the matrix created\n",
    "def myMatrixCreat(n, m, numMin, numMax):\n",
    "    myMatrix = np.random.randint(numMin, numMax, size = (n,m))\n",
    "    return myMatrix\n"
   ]
  },
  {
   "cell_type": "code",
   "execution_count": 110,
   "id": "fffc456f",
   "metadata": {},
   "outputs": [
    {
     "data": {
      "text/plain": [
       "array([[ 5,  3,  1,  3],\n",
       "       [10,  3,  8,  1],\n",
       "       [ 7, 10,  3,  6]])"
      ]
     },
     "execution_count": 110,
     "metadata": {},
     "output_type": "execute_result"
    }
   ],
   "source": [
    "#I create myMatrix with NxM dimension and random numbers between 0 and 100\n",
    "myMatrix = myMatrixCreat(3,4,0,11)\n",
    "myMatrix"
   ]
  },
  {
   "cell_type": "code",
   "execution_count": 107,
   "id": "5bac1137",
   "metadata": {},
   "outputs": [
    {
     "data": {
      "text/plain": [
       "(3, 4)"
      ]
     },
     "execution_count": 107,
     "metadata": {},
     "output_type": "execute_result"
    }
   ],
   "source": [
    "##Check my matrix shape is correct:\n",
    "myMatrix.shape"
   ]
  },
  {
   "cell_type": "code",
   "execution_count": 108,
   "id": "c4447980",
   "metadata": {},
   "outputs": [],
   "source": [
    "##Defining the functuin to calculate the sum per rows and columns\n",
    "#The function just does a print of the result but could return the 2 arrays\n",
    "def sumatoryFilesColumnes(myMatrix):\n",
    "    sumRowS = np.sum(myMatrix, axis = 1)\n",
    "    sumColumnS = np.sum(myMatrix, axis = 0)\n",
    "    print('Sumatory files: ', sumRowS,\n",
    "         '\\nSumatory Columnes: ', sumColumnS)"
   ]
  },
  {
   "cell_type": "code",
   "execution_count": 109,
   "id": "b6b6f327",
   "metadata": {},
   "outputs": [
    {
     "name": "stdout",
     "output_type": "stream",
     "text": [
      "Sumatory files:  [14 21 33] \n",
      "Sumatory Columnes:  [10 19 19 20]\n"
     ]
    }
   ],
   "source": [
    "##I apply my function with myMatrix as argument\n",
    "##Each number of the array is the sum of each row or column, respectively.\n",
    "sumatoryFilesColumnes(myMatrix)"
   ]
  },
  {
   "cell_type": "markdown",
   "id": "62aaf0f5",
   "metadata": {},
   "source": [
    "## Exercice 4\n",
    "<div class=\"alert alert-block alert-info\">Implementa manualment una funció que calculi el coeficient de correlació. Informa-te'n sobre els seus usos i interpretació.\n",
    "</div>"
   ]
  },
  {
   "cell_type": "markdown",
   "id": "4b8588e6",
   "metadata": {},
   "source": [
    "### _**What is a Correlation Matrix?**_\n",
    "\n",
    "A **correlation matrix** is simply a table which displays the **correlation coefficients** for **different variables**. The matrix depicts the correlation between all the possible pairs of values in a table. It is a powerful tool to summarize a large dataset and to identify and visualize patterns in the given data.\n",
    "\n",
    "Some resources: https://realpython.com/numpy-scipy-pandas-correlation-python/\n",
    "\n",
    "- **Calculating ρ**\n",
    "\n",
    "The covariance of the two variables in question must be calculated before the correlation can be determined. Next, each variable's standard deviation is required. The **correlation coefficient** is determined by **dividing the covariance by the product of the two variables' standard deviations**.\n",
    "\n",
    "**Standard deviation** is a measure of the dispersion of data from its average. **Covariance** is a measure of how two variables change together. However, its magnitude is unbounded, so it is difficult to interpret. The **normalized version** of the statistic is calculated by dividing covariance by the product of the two standard deviations. **This is the correlation coefficient**. \n"
   ]
  },
  {
   "cell_type": "code",
   "execution_count": 112,
   "id": "319591bd",
   "metadata": {},
   "outputs": [
    {
     "data": {
      "image/png": "[encoded data removed]",
      "text/plain": [
       "<IPython.core.display.Image object>"
      ]
     },
     "execution_count": 112,
     "metadata": {},
     "output_type": "execute_result"
    }
   ],
   "source": [
    "Image('ImagCoefCorrelationXY.png')"
   ]
  },
  {
   "cell_type": "markdown",
   "id": "f6b78afb",
   "metadata": {},
   "source": [
    "- **Correlation Results**. Correlation values can be between -1 to 1\n",
    "    - **Positicve Correlation:**\n",
    "         - When the correlation coefficient  **ρ > 0**, signifies that **both variables move in the same direction**. \n",
    "         - When **ρ is +1**, it signifies that the two variables being compared have a **perfect positive relationship**; so, when one variable moves higher or lower, the other variable moves in the same direction with the same magnitude.\n",
    "         - The closer the value of ρ is to +1, the stronger the linear relationship. \n",
    "         \n",
    "         - For example, suppose the value of oil prices is directly related to the prices of airplane tickets, with a correlation coefficient of +0.95. The relationship between oil prices and airfares has a very strong positive correlation since the value is close to +1. So, if the price of oil decreases, airfares also decrease, and if the price of oil increases, so do the prices of airplane tickets.          \n",
    "\n",
    "    - **Negative Correlation:**\n",
    "        - A negative (inverse) correlation occurs when  **ρ < 0** (the correlation coefficient is less than 0).\n",
    "        - When **ρ is -1**, the relationship is said to be **perfectly negatively correlated**.\n",
    "        - This is an indication that **both variables move in the opposite direction**. In short, any reading between 0 and -1 means that the two securities move in opposite directions. \n",
    "        - In short, if one variable increases, the other variable decreases with the same magnitude (and vice versa). However, the degree to which two securities are negatively correlated might vary over time (and they are almost never exactly correlated all the time).  "
   ]
  },
  {
   "cell_type": "markdown",
   "id": "706c5384",
   "metadata": {},
   "source": [
    "https://www.geeksforgeeks.org/python-numpy-cov-function/\n",
    "    \n",
    "\n",
    "- **Covariance and Correlation** - In Simple Terms\n",
    "    (from: https://stackabuse.com/covariance-and-correlation-in-python/)\n",
    "\n",
    "    - Both covariance and correlation are about the relationship between the variables. Covariance defines the directional association between the variables. Covariance values range from -inf to +inf where a positive value denotes that both the variables move in the same direction and a negative value denotes that both the variables move in opposite directions.\n",
    "\n",
    "    - Correlation is a standardized statistical measure that expresses the extent to which two variables are linearly related (meaning how much they change together at a constant rate). The strength and directional association of the relationship between two variables are defined by correlation and it ranges from -1 to +1. Similar to covariance, a positive value denotes that both variables move in the same direction whereas a negative value tells us that they move in opposite directions.\n",
    "\n",
    "    - Both covariance and correlation are vital tools used in data exploration for feature selection and multivariate analyses. For example, an investor looking to spread the risk of a portfolio might look for stocks with a high covariance, as it suggests that their prices move up at the same time. However, a similar movement is not enough on its own. The investor would then use the correlation metric to determine how strongly linked those stock prices are to each other."
   ]
  },
  {
   "cell_type": "markdown",
   "id": "ff3daebe",
   "metadata": {},
   "source": [
    "The next formula use the covariance and the two standard deviations of the array to calculate the Pearsons correlation coeficient."
   ]
  },
  {
   "cell_type": "code",
   "execution_count": 203,
   "id": "88023e00",
   "metadata": {},
   "outputs": [
    {
     "data": {
      "image/png": "[encoded data removed]",
      "text/plain": [
       "<IPython.core.display.Image object>"
      ]
     },
     "execution_count": 203,
     "metadata": {},
     "output_type": "execute_result"
    }
   ],
   "source": [
    "Image('ImagCoefCorrelationXY.png')"
   ]
  },
  {
   "cell_type": "markdown",
   "id": "37a4a65b",
   "metadata": {},
   "source": [
    "Here we have an expanded version of the formula to calculate the Pearson's correlation coeficient. Where above it is calculatesd the covariance and below the two standard deviations"
   ]
  },
  {
   "cell_type": "code",
   "execution_count": 246,
   "id": "64338bd7",
   "metadata": {},
   "outputs": [
    {
     "data": {
      "image/png": "[encoded data removed]",
      "text/plain": [
       "<IPython.core.display.Image object>"
      ]
     },
     "execution_count": 246,
     "metadata": {},
     "output_type": "execute_result"
    }
   ],
   "source": [
    "Image('ImageCorrCoefExpand.png')"
   ]
  },
  {
   "cell_type": "markdown",
   "id": "67f886f0",
   "metadata": {},
   "source": [
    "For the purpose of this exercice I took some heights and made a heights array, and then I want to correlate it with years.\n",
    "Since I do not have a years array, I creat an arrray, the same size as the heights (42) with random years between 1800 to 2022."
   ]
  },
  {
   "cell_type": "code",
   "execution_count": 194,
   "id": "beed7829",
   "metadata": {},
   "outputs": [
    {
     "data": {
      "text/plain": [
       "(42,)"
      ]
     },
     "execution_count": 194,
     "metadata": {},
     "output_type": "execute_result"
    }
   ],
   "source": [
    "heights = np.array([189, 170, 189, 163, 183, 171, 185, 168, 173, 183, 173, 173, 175, 178, 183, 193, 178, 173, 174, 183, 183, 168, 170, 178, 182, 180, 183, 178, 182, 188, 175, 179, 183, 193, 182, 183, 177, 185, 188, 188, 182, 185])\n",
    "heights.shape"
   ]
  },
  {
   "cell_type": "code",
   "execution_count": 195,
   "id": "54dda5c4",
   "metadata": {},
   "outputs": [
    {
     "data": {
      "text/plain": [
       "array([2018, 1888, 1929, 1826, 1879, 1925, 1985, 1828, 1871, 1923, 2019,\n",
       "       1892, 1975, 1905, 1937, 2005, 2009, 1994, 1898, 1893, 1886, 1988,\n",
       "       1974, 1998, 1807, 2012, 1909, 1887, 1911, 1810, 1820, 1849, 1866,\n",
       "       1926, 1920, 1836, 2003, 1849, 1878, 1944, 1865, 1846])"
      ]
     },
     "execution_count": 195,
     "metadata": {},
     "output_type": "execute_result"
    }
   ],
   "source": [
    "years = np.random.randint(1800, 2022, size = 42)\n",
    "years"
   ]
  },
  {
   "cell_type": "code",
   "execution_count": 249,
   "id": "be7c4394",
   "metadata": {},
   "outputs": [
    {
     "data": {
      "text/plain": [
       "array([[  49.2224158,   12.1387921],\n",
       "       [  12.1387921, 4096.5952381]])"
      ]
     },
     "execution_count": 249,
     "metadata": {},
     "output_type": "execute_result"
    }
   ],
   "source": [
    "##We check the covarince numpy methode\n",
    "np.cov(heights,years)"
   ]
  },
  {
   "cell_type": "markdown",
   "id": "9a3a2cce",
   "metadata": {},
   "source": [
    "Since the np.cov() method is doing a Matrix with the variance of each variable in the diagonal and Covariance out of the diagonal. But this is not what we want, we just one one value for the covariance between the 2 arrays.\n",
    "Here below we tested the formula to calculate the covariance between the 2 arrays following the formula above"
   ]
  },
  {
   "cell_type": "code",
   "execution_count": 298,
   "id": "646a68b0",
   "metadata": {},
   "outputs": [
    {
     "data": {
      "text/plain": [
       "12.138792102206748"
      ]
     },
     "execution_count": 298,
     "metadata": {},
     "output_type": "execute_result"
    }
   ],
   "source": [
    "sum((heights - heights.mean())*(years - years.mean()))/(len(heights)-1)"
   ]
  },
  {
   "cell_type": "markdown",
   "id": "62a06eca",
   "metadata": {},
   "source": [
    "And I define a function to claculate the correlation coeficient for 2 arrays, x and y:"
   ]
  },
  {
   "cell_type": "code",
   "execution_count": 295,
   "id": "99f636bf",
   "metadata": {},
   "outputs": [],
   "source": [
    "def manualCoefCorrelation(x,y):\n",
    "    mat = np.stack((x,y), axis = 0) ## First I stack the 2 arrays in one Matrix by rows, \n",
    "    ##instead of using axis = 1 (by rows) that would assigned each height to 1 year \n",
    "    ##We use axis=0 so we have a 2d array with 1 array of heigs and one with years\n",
    "    ##covMat = np.cov(mat) ##Not working because is doing a Matrix with the variance of each variable in the diagonal and Covariance out of the diagonal\n",
    "    ##covMat = np.cov(x,y)[0][1]##Here I just take the value of the matrix above I'm interested in\n",
    "    covMat = sum((x - x.mean())*(y - y.mean()))/(len(x)-1) ##Since the methode np.cov() is not working well in that case, I do the covariance myself\n",
    "    x_Std = np.std(x)\n",
    "    y_Std = np.std(y)\n",
    "    denominator = x_Std*y_Std\n",
    "    coefCorrMat = covMat/denominator\n",
    "    return coefCorrMat"
   ]
  },
  {
   "cell_type": "markdown",
   "id": "0a5f49ab",
   "metadata": {},
   "source": [
    "Here I calculate my correlation coeficient with my function and below I check  the result dimension and shape"
   ]
  },
  {
   "cell_type": "code",
   "execution_count": 297,
   "id": "420cfac2",
   "metadata": {},
   "outputs": [
    {
     "name": "stdout",
     "output_type": "stream",
     "text": [
      "0.027691591530150713\n",
      "0\n",
      "()\n"
     ]
    }
   ],
   "source": [
    "corr_Matrix = manualCoefCorrelation(heights,years)\n",
    "print(corr_Matrix)\n",
    "print(corr_Matrix.ndim)\n",
    "print(corr_Matrix.shape)"
   ]
  },
  {
   "cell_type": "markdown",
   "id": "287eb4b5",
   "metadata": {},
   "source": [
    "Here i use the numpy correlationcoefficient method to calculate it and compare with my result, and below we chacke dimension and shape."
   ]
  },
  {
   "cell_type": "code",
   "execution_count": 255,
   "id": "9e1bd840",
   "metadata": {},
   "outputs": [
    {
     "name": "stdout",
     "output_type": "stream",
     "text": [
      "[[1.         0.02703227]\n",
      " [0.02703227 1.        ]]\n",
      "2\n",
      "(2, 2)\n",
      "[[1.         0.02703227]\n",
      " [0.02703227 1.        ]]\n"
     ]
    }
   ],
   "source": [
    "print(np.corrcoef(mat))\n",
    "print(np.corrcoef(mat).ndim)\n",
    "print(np.corrcoef(mat).shape)\n",
    "print(np.corrcoef(heights,years))"
   ]
  },
  {
   "cell_type": "markdown",
   "id": "0bfe3c1f",
   "metadata": {},
   "source": [
    "We can see that our function, finally, is just giving one number for the correlation coeficient between the 2 Arrays. This makes more sense that what is giving np.corrcoef() method because this last one is giving a matrix, where in the diagonal we have the variances of each array while out of hte diagonal the covariance between them, the only value that we want.\n",
    "\n",
    "\n",
    "Below, I use a defined function in https://stackabuse.com/covariance-and-correlation-in-python/ which just give one value that is exactly the ones we get out of the diagonal.\n",
    "This last function is following the the definition formula step by step of the correlation coeficient:"
   ]
  },
  {
   "cell_type": "code",
   "execution_count": 231,
   "id": "0f89f7e4",
   "metadata": {},
   "outputs": [],
   "source": [
    "def correlation(x, y):\n",
    "    # Finding the mean of the array x and y\n",
    "    mean_x = sum(x)/float(len(x))\n",
    "    mean_y = sum(y)/float(len(y))\n",
    "    # Subtracting mean from the individual elements\n",
    "    sub_x = [i-mean_x for i in x]\n",
    "    sub_y = [i-mean_y for i in y]\n",
    "    # covariance for x and y\n",
    "    numerator = sum([sub_x[i]*sub_y[i] for i in range(len(sub_x))])\n",
    "    # Standard Deviation of x and y\n",
    "    std_deviation_x = sum([sub_x[i]**2.0 for i in range(len(sub_x))])\n",
    "    std_deviation_y = sum([sub_y[i]**2.0 for i in range(len(sub_y))])\n",
    "    # squaring by 0.5 to find the square root\n",
    "    denominator = (std_deviation_x*std_deviation_y)**0.5 # short but equivalent to (std_deviation_x**0.5) * (std_deviation_y**0.5)\n",
    "    cor = numerator/denominator\n",
    "    return cor\n"
   ]
  },
  {
   "cell_type": "code",
   "execution_count": 299,
   "id": "bb1437d4",
   "metadata": {},
   "outputs": [
    {
     "data": {
      "text/plain": [
       "0.027032267922289972"
      ]
     },
     "execution_count": 299,
     "metadata": {},
     "output_type": "execute_result"
    }
   ],
   "source": [
    "##Applaying the function\n",
    "correlation(heights,years)"
   ]
  }
 ],
 "metadata": {
  "kernelspec": {
   "display_name": "Python 3 (ipykernel)",
   "language": "python",
   "name": "python3"
  },
  "language_info": {
   "codemirror_mode": {
    "name": "ipython",
    "version": 3
   },
   "file_extension": ".py",
   "mimetype": "text/x-python",
   "name": "python",
   "nbconvert_exporter": "python",
   "pygments_lexer": "ipython3",
   "version": "3.9.12"
  }
 },
 "nbformat": 4,
 "nbformat_minor": 5
}
